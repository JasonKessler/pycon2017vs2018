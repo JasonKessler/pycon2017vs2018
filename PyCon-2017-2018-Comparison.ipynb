{
 "cells": [
  {
   "cell_type": "markdown",
   "metadata": {},
   "source": [
    "## Using Scattertext to See how PyCon Talks Differed Between 2017 and 2018\n",
    "Jason S. Kessler \n",
    "[@jasonkessler](https://twitter.com/jasonkessler)\n",
    "\n",
    "This notebook shows a quick-and-dirty analysis of PyCon abstracts. It makes heavy use of the library Scattertext (https://github.com/JasonKessler/scattertext) for language processing and visualizations.\n",
    "\n",
    "If you have any questions, feel free to reach out on Twitter. "
   ]
  },
  {
   "cell_type": "code",
   "execution_count": 1,
   "metadata": {},
   "outputs": [
    {
     "data": {
      "text/html": [
       "<style>.container { width:98% !important; }</style>"
      ],
      "text/plain": [
       "<IPython.core.display.HTML object>"
      ]
     },
     "metadata": {},
     "output_type": "display_data"
    }
   ],
   "source": [
    "import scattertext as st\n",
    "import pandas as pd\n",
    "from bs4 import BeautifulSoup\n",
    "import requests\n",
    "import re\n",
    "import spacy\n",
    "import umap\n",
    "from gensim.models.word2vec import Word2Vec\n",
    "from IPython.display import IFrame\n",
    "from IPython.core.display import display, HTML\n",
    "display(HTML(\"<style>.container { width:98% !important; }</style>\"))"
   ]
  },
  {
   "cell_type": "code",
   "execution_count": 2,
   "metadata": {},
   "outputs": [],
   "source": [
    "assert st.__version__ >= '0.0.2.27.1' "
   ]
  },
  {
   "cell_type": "markdown",
   "metadata": {},
   "source": [
    "# Hastily scrape PyCon talk lists"
   ]
  },
  {
   "cell_type": "code",
   "execution_count": 3,
   "metadata": {},
   "outputs": [],
   "source": [
    "raw_2017 = BeautifulSoup(requests.get('https://us.pycon.org/2017/schedule/talks/list/').text, 'lxml')"
   ]
  },
  {
   "cell_type": "code",
   "execution_count": 4,
   "metadata": {},
   "outputs": [],
   "source": [
    "for div in raw_2017.findAll('div'):\n",
    "    if 'class' in div.attrs and div.attrs['class'][0].strip() == 'box-content':\n",
    "        content_div = div\n",
    "df_2017 = pd.DataFrame({\n",
    "    'title':[a for a in raw_2017.find_all('a') if 'id' in a.attrs and a.attrs['id'].startswith('presentation-')],\n",
    "    'headers_raw':content_div.find_all('p'),\n",
    "    'content_raw':content_div.find_all('div', attrs={'class': 'presentation-description'}),\n",
    "    'year':'2017'})        "
   ]
  },
  {
   "cell_type": "code",
   "execution_count": 5,
   "metadata": {},
   "outputs": [],
   "source": [
    "raw_2018 = BeautifulSoup(requests.get('https://us.pycon.org/2018/schedule/talks/list/').text, 'lxml')"
   ]
  },
  {
   "cell_type": "code",
   "execution_count": 6,
   "metadata": {},
   "outputs": [],
   "source": [
    "for div in raw_2018.findAll('div'):\n",
    "    if 'class' in div.attrs and div.attrs['class'][0].strip() == 'box-content':\n",
    "        content_div = div\n",
    "df_2018 = pd.DataFrame({\n",
    "    'title':[a for a in raw_2018.find_all('a') if 'id' in a.attrs and a.attrs['id'].startswith('presentation-')],\n",
    "    'headers_raw':content_div.find_all('p'),\n",
    "    'content_raw':content_div.find_all('div', attrs={'class': 'presentation-description'}),\n",
    "    'year':'2018'})        "
   ]
  },
  {
   "cell_type": "code",
   "execution_count": 7,
   "metadata": {},
   "outputs": [],
   "source": [
    "df = pd.concat([df_2017, df_2018])"
   ]
  },
  {
   "cell_type": "code",
   "execution_count": 8,
   "metadata": {},
   "outputs": [],
   "source": [
    "df['content_text'] = df['content_raw'].apply(lambda x: (re.sub(r'\\[http[^\\]]+\\]', '', \n",
    "                                                                         re.sub(r'\\(http[^\\)]+\\)', '', x.text))\n",
    "                                                                  .replace('()','').replace('â',\"'\").replace(\"'\", chr(8217))).replace('<','&lt;').replace('>','&gt;').strip())\n",
    "df['headers_text'] = df['headers_raw'].apply(lambda x: ' '.join((re.sub(r'\\[http[^\\]]+\\]', '', \n",
    "                                                                         re.sub(r'\\(http[^\\)]+\\)', '', x.text))\n",
    "                                                                  .replace('()','').split())).strip())\n",
    "df['headers_text'] = df['headers_text'].apply(lambda x: ''.join(c for c in x if ord(c) < 128).strip())"
   ]
  },
  {
   "cell_type": "code",
   "execution_count": 26,
   "metadata": {},
   "outputs": [],
   "source": [
    "df.to_csv('pycon2017-2018.csv', index=False)"
   ]
  },
  {
   "cell_type": "markdown",
   "metadata": {},
   "source": [
    "# Parse talk and prepare corpus"
   ]
  },
  {
   "cell_type": "code",
   "execution_count": 9,
   "metadata": {},
   "outputs": [],
   "source": [
    "try:\n",
    "    nlp\n",
    "except:\n",
    "    nlp = spacy.load('en')"
   ]
  },
  {
   "cell_type": "code",
   "execution_count": 10,
   "metadata": {},
   "outputs": [],
   "source": [
    "df['parse'] = df['content_text'].apply(nlp)"
   ]
  },
  {
   "cell_type": "code",
   "execution_count": 11,
   "metadata": {},
   "outputs": [],
   "source": [
    "pycon_corpus = (st.CorpusFromParsedDocuments(df, parsed_col='parse', category_col='year')\n",
    "                   .build()\n",
    "                   .compact(st.ClassPercentageCompactor(term_count=1)))\n",
    "pycon_corpus = pycon_corpus.remove_terms([t for t in pycon_corpus.get_terms() if not re.match('^[a-z ]+$', t)])"
   ]
  },
  {
   "cell_type": "code",
   "execution_count": 12,
   "metadata": {},
   "outputs": [],
   "source": [
    "pycon_phrase_corpus = (st.CorpusFromParsedDocuments(df, \n",
    "                                                    parsed_col='parse', \n",
    "                                                    category_col='year', \n",
    "                                                    feats_from_spacy_doc=st.PhraseMachinePhrases())\n",
    "                   .build()\n",
    "                   .compact(st.ClassPercentageCompactor(term_count=2))\n",
    "                   .compact(st.CompactTerms(slack=6)))\n",
    "pycon_phrase_corpus = pycon_phrase_corpus.remove_terms([t for t in pycon_phrase_corpus.get_terms() if not re.match('^[a-z ]+$', t)])"
   ]
  },
  {
   "cell_type": "code",
   "execution_count": 13,
   "metadata": {},
   "outputs": [],
   "source": [
    "def get_metadata_from_corpus(corpus):\n",
    "    df = corpus.get_df()\n",
    "    return df.title.apply(lambda x: x.text.strip())"
   ]
  },
  {
   "cell_type": "markdown",
   "metadata": {},
   "source": [
    "## Let's look at phrases that are commonly used in 2018 and 2017 PyCon talks\n",
    "In this chart, noun phrases occuring in 2017 and 2018 PyCon absracts are plotted.  The position on the x-axis is proportional to the frequency the noun phrase occured in the set of abstracts, while the y-axis position is higher if the phrase was more associated with 2018 and lower if it was more associated with 2017.\n",
    "\n",
    "The following two charts use the difference in dense ranks metric of term-class assocation.\n",
    "\n",
    "2018 was the year of best practices.  The phrase \"real world\" was used in 2018 abstracts, but not nearly as much as in 2017.\n",
    "Still, dominated both years as a topic, but gained steam in 2018."
   ]
  },
  {
   "cell_type": "code",
   "execution_count": 14,
   "metadata": {},
   "outputs": [
    {
     "data": {
      "text/html": [
       "\n",
       "        <iframe\n",
       "            width=\"1400\"\n",
       "            height=\"700\"\n",
       "            src=\"phrase_rankdiff.html\"\n",
       "            frameborder=\"0\"\n",
       "            allowfullscreen\n",
       "        ></iframe>\n",
       "        "
      ],
      "text/plain": [
       "<IPython.lib.display.IFrame at 0x120bf2fd0>"
      ]
     },
     "execution_count": 14,
     "metadata": {},
     "output_type": "execute_result"
    }
   ],
   "source": [
    "html = st.produce_frequency_explorer(pycon_phrase_corpus,\n",
    "                                     category='2018',\n",
    "                                     minimum_term_frequency=0,\n",
    "                                     pmi_filter_thresold=0,\n",
    "                                     use_full_doc = True,\n",
    "                                     term_scorer = st.RankDifference(),\n",
    "                                     term_ranker=st.OncePerDocFrequencyRanker,\n",
    "                                     metadata = get_metadata_from_corpus(pycon_phrase_corpus),\n",
    "                                     grey_threshold=0,\n",
    "                                     width_in_pixels=1200)\n",
    "file_name = 'phrase_rankdiff.html'\n",
    "open(file_name, 'wb').write(html.encode('utf-8'))\n",
    "IFrame(src=file_name, width = 1400, height=700)"
   ]
  },
  {
   "cell_type": "markdown",
   "metadata": {},
   "source": [
    "## Term Frequencies\n",
    "Here, the frequencies of unigrams are plotted.  Instead of frequency, the x-axis referes to charcteristicness, while the y-axis refers to year-association.\n",
    "\n",
    "Clearly, the word \"python\" is highly characteristic, to the point it distorts the rest of the plot.\n",
    "\n",
    "Let's see how unigram frequencies differ between 2018 and 2017.  Many of the 2018 differences are stylistic. First person plural pronouns are (\"our\", \"we\", \"us\") dominatate.  This, along with other function words like \"just\", suggest 2018 abstracts had a more conversational style.\n",
    "\n",
    "Machine learning terms like \"learning\", \"learn\", and \"features\" (these are all polysemous) also dominate 2018.  Words related to software deployment (\"deploy\", \"deployment\", \"production\") were also trending in 2018."
   ]
  },
  {
   "cell_type": "code",
   "execution_count": 19,
   "metadata": {},
   "outputs": [
    {
     "data": {
      "text/html": [
       "\n",
       "        <iframe\n",
       "            width=\"1400\"\n",
       "            height=\"700\"\n",
       "            src=\"pycon_characteristic.html\"\n",
       "            frameborder=\"0\"\n",
       "            allowfullscreen\n",
       "        ></iframe>\n",
       "        "
      ],
      "text/plain": [
       "<IPython.lib.display.IFrame at 0x120a84940>"
      ]
     },
     "execution_count": 19,
     "metadata": {},
     "output_type": "execute_result"
    }
   ],
   "source": [
    "html = st.produce_characteristic_explorer(pycon_corpus, \n",
    "                                          category='2018',\n",
    "                                          not_category_name='2017',\n",
    "                                          term_ranker=st.OncePerDocFrequencyRanker,\n",
    "                                          term_scorer=st.RankDifference(),\n",
    "                                          metadata=get_metadata_from_corpus(pycon_corpus))\n",
    "file_name = 'pycon_characteristic.html'\n",
    "open(file_name, 'wb').write(html.encode('utf-8'))\n",
    "IFrame(src=file_name, width = 1400, height=700)"
   ]
  },
  {
   "cell_type": "markdown",
   "metadata": {},
   "source": [
    "## Stoplisted Term Frequencies\n",
    "After removing function words and the word \"python\", we can start to see parts of the scientific computing computing stack (\"numpy\", \"scipy\", \"pandas\") were discussed less in 2018.\n",
    "\n",
    "Interestingly, the word \"probably\" hardly appeared in 2017, but was very popular in 2018. \n",
    "\n",
    "Words relating to ease of use were hot in 2018: \"easy\", \"easier\", \"humans\", and \"intuitive\" were all much more associated this year's talk.  The exception, the word \"simple\".  The word \"introduction\" only appeared in one 2018 abstract, while appearing in multiple 2017 abstracts."
   ]
  },
  {
   "cell_type": "code",
   "execution_count": 25,
   "metadata": {},
   "outputs": [
    {
     "data": {
      "text/html": [
       "\n",
       "        <iframe\n",
       "            width=\"1400\"\n",
       "            height=\"700\"\n",
       "            src=\"pycon_characteristic.html\"\n",
       "            frameborder=\"0\"\n",
       "            allowfullscreen\n",
       "        ></iframe>\n",
       "        "
      ],
      "text/plain": [
       "<IPython.lib.display.IFrame at 0x125f4f160>"
      ]
     },
     "execution_count": 25,
     "metadata": {},
     "output_type": "execute_result"
    }
   ],
   "source": [
    "stoplist_corpus = pycon_corpus.get_stoplisted_unigram_corpus().remove_terms(['python', 'just'])\n",
    "html = st.produce_characteristic_explorer(stoplist_corpus, \n",
    "                                          category='2018',\n",
    "                                          not_category_name='2017',\n",
    "                                          term_ranker=st.OncePerDocFrequencyRanker,\n",
    "                                          term_scorer=st.ScaledFScorePresets(beta=1, one_to_neg_one=True),\n",
    "                                          metadata=get_metadata_from_corpus(stoplist_corpus))\n",
    "file_name = 'pycon_characteristic.html'\n",
    "open(file_name, 'wb').write(html.encode('utf-8'))\n",
    "IFrame(src=file_name, width = 1400, height=700)"
   ]
  },
  {
   "cell_type": "markdown",
   "metadata": {},
   "source": [
    "## Word Embeding Visualization\n",
    "Given the small size of the corpus, the word embeddings aren't ideal, but still interesting to explore.  We can see a UMAP projection below. Words more associated with 2018 are colored in blue, while those more associated with 2017 are colored in red."
   ]
  },
  {
   "cell_type": "code",
   "execution_count": 24,
   "metadata": {
    "scrolled": false
   },
   "outputs": [
    {
     "data": {
      "text/html": [
       "\n",
       "        <iframe\n",
       "            width=\"1200\"\n",
       "            height=\"700\"\n",
       "            src=\"umap_projection.html\"\n",
       "            frameborder=\"0\"\n",
       "            allowfullscreen\n",
       "        ></iframe>\n",
       "        "
      ],
      "text/plain": [
       "<IPython.lib.display.IFrame at 0x124feb908>"
      ]
     },
     "execution_count": 24,
     "metadata": {},
     "output_type": "execute_result"
    }
   ],
   "source": [
    "html = st.produce_projection_explorer(stoplist_corpus,\n",
    "                                      category='2018', \n",
    "                                      not_category_name='2017', \n",
    "                                      term_scorer = st.RankDifference(),\n",
    "                                      term_ranker=st.OncePerDocFrequencyRanker,                                       \n",
    "                                      width_in_pixels=1000,\n",
    "                                      use_full_doc=True,\n",
    "                                      projection_model = umap.UMAP(metric='cosine'),\n",
    "                                      metadata=get_metadata_from_corpus(stoplist_corpus))\n",
    "file_name = 'umap_projection.html'\n",
    "open(file_name, 'wb').write(html.encode('utf-8'))\n",
    "IFrame(src=file_name, width = 1200, height=700)\n"
   ]
  },
  {
   "cell_type": "code",
   "execution_count": null,
   "metadata": {},
   "outputs": [],
   "source": []
  }
 ],
 "metadata": {
  "anaconda-cloud": {},
  "kernelspec": {
   "display_name": "Python [py36]",
   "language": "python",
   "name": "Python [py36]"
  },
  "language_info": {
   "codemirror_mode": {
    "name": "ipython",
    "version": 3
   },
   "file_extension": ".py",
   "mimetype": "text/x-python",
   "name": "python",
   "nbconvert_exporter": "python",
   "pygments_lexer": "ipython3",
   "version": "3.6.1"
  }
 },
 "nbformat": 4,
 "nbformat_minor": 2
}
